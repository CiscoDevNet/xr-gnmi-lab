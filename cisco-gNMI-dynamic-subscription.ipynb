{
 "cells": [
  {
   "cell_type": "markdown",
   "metadata": {},
   "source": [
    "### Preparation of the environment"
   ]
  },
  {
   "cell_type": "markdown",
   "metadata": {},
   "source": [
    "<mark>TASK 17 (OPTIONAL)</mark>\n",
    "\n",
    "Enable logging at the debug level:"
   ]
  },
  {
   "cell_type": "code",
   "execution_count": null,
   "metadata": {},
   "outputs": [],
   "source": [
    "from IPython.core.interactiveshell import InteractiveShell\n",
    "InteractiveShell.ast_node_interactivity = \"all\"\n",
    "import logging\n",
    "logger = logging.getLogger()\n",
    "logger.setLevel(logging.DEBUG)\n",
    "logging.debug(\"test\")"
   ]
  },
  {
   "cell_type": "markdown",
   "metadata": {},
   "source": [
    "<mark>TASK 18</mark>\n",
    "\n",
    "Import the Cisco gNMI package and its client module:"
   ]
  },
  {
   "cell_type": "code",
   "execution_count": null,
   "metadata": {},
   "outputs": [],
   "source": [
    "from cisco_gnmi import ClientBuilder"
   ]
  },
  {
   "cell_type": "markdown",
   "metadata": {},
   "source": [
    "### Connectivity to the device\n",
    "\n",
    "<mark>TASK 19</mark>\n"
   ]
  },
  {
   "cell_type": "code",
   "execution_count": null,
   "metadata": {},
   "outputs": [],
   "source": [
    "builder = ClientBuilder('198.18.134.72:57777')\n",
    "builder.set_os('IOS XR')\n",
    "builder.set_secure_from_target()\n",
    "builder.set_ssl_target_override()\n",
    "builder.set_call_authentication('cisco', 'cisco')\n",
    "\n",
    "client = builder.construct()"
   ]
  },
  {
   "cell_type": "markdown",
   "metadata": {},
   "source": [
    "### Configuration of model-driven telemetry streaming (dynamic, dial-in)"
   ]
  },
  {
   "cell_type": "markdown",
   "metadata": {},
   "source": [
    "Configure the IOS XR device for model-driven telemetry streaming using the **gNMI dial-in** mechanism. In this case, the MDT receiver (i.e., the host that runs the Jupyter notebook - `198.18.134.50`) will contact the device (**dial-in**) and exchange SYN -- SYN-ACK -- ACK with the device while establishing the connection.\n",
    "\n",
    "If the connection is successfully created, the device will start streaming telemetry data towards the collection point.\n",
    "\n",
    "The collection will stop when the receiver cancels the subscription (e.g., _Interrupt the kernel_ of the Jupyter notebook) or when the session terminates (e.g., when polling once).\n",
    "\n",
    "Here, we subscribe to updates of the operational state (`Cisco-IOS-XR-infra-statsd-oper`) of the management interface (`[interface-name=\"MgmtEth0/RP0/CPU0/0\"]`). Specifically, we are looking for generic counters regarding this interface :\n",
    "- (multicast / broadcast) packets received / sent\n",
    "- bytes received / sent\n",
    "- output / input drops\n",
    "- output / input queue drops\n",
    "- CRC errors\n",
    "- ...\n",
    "\n",
    "Notice that the subscription method (`subscribe_xpaths()`) has a few parameters:\n",
    "\n",
    "- `xpath_subscriptions`: the xpath(s) to use for subscription\n",
    "- `request_mode`: whether to stream continuously, once, or to poll data. Can be one of: STREAM, ONCE, POLL\n",
    "- `sub_mode`: whether to sample regularly the data, or to stream the data only when a change is happening. Can be one of: TARGET_DEFINED, ON_CHANGE, SAMPLE\n",
    "- `encoding`: the encoding format of the returned data. Can be one of: JSON, BYTES, PROTO, ASCII, JSON_IETF\n",
    "- `sample_interval`: the time interval at which samples of data should be streamed [ns]\n",
    "- `suppress_redundant`: whether to avoid sending duplicate data\n",
    "- `heartbeat_interval`: the enforced time interval after which data should be sent when `suppress_redundant` is in use [ns]\n",
    "\n",
    "In this example, we expect to receive data regularly, every 60 seconds.\n",
    "\n",
    "<mark>TASK 20</mark>\n",
    "\n",
    "Create the subscription:"
   ]
  },
  {
   "cell_type": "code",
   "execution_count": null,
   "metadata": {},
   "outputs": [],
   "source": [
    "# Subscribe\n",
    "subscribe_reply = client.subscribe_xpaths(xpath_subscriptions='Cisco-IOS-XR-infra-statsd-oper:infra-statistics/interfaces/interface[interface-name=\"MgmtEth0/RP0/CPU0/0\"]/generic-counters',\n",
    "                                          request_mode='STREAM',\n",
    "                                          sub_mode='SAMPLE',\n",
    "                                          encoding='PROTO',\n",
    "                                          sample_interval=60000000000, # Every 60 seconds\n",
    "                                          suppress_redundant=False,\n",
    "                                          heartbeat_interval=None\n",
    ")\n",
    "\n",
    "# Print the MDT data\n",
    "for m in subscribe_reply:\n",
    "    print(m)"
   ]
  },
  {
   "cell_type": "markdown",
   "metadata": {},
   "source": [
    "<mark>TASK 21</mark>\n",
    "\n",
    "Observe the incoming data, including the timestamps.\n",
    "\n",
    "<mark>TASK 22</mark>\n",
    "\n",
    "Go back to the `cisco-gNMI-main` notebook and confirm that the model-driven telemetry streaming is active on the device."
   ]
  }
 ],
 "metadata": {
  "kernelspec": {
   "display_name": "Python 3",
   "language": "python",
   "name": "python3"
  },
  "language_info": {
   "codemirror_mode": {
    "name": "ipython",
    "version": 3
   },
   "file_extension": ".py",
   "mimetype": "text/x-python",
   "name": "python",
   "nbconvert_exporter": "python",
   "pygments_lexer": "ipython3",
   "version": "3.6.8"
  }
 },
 "nbformat": 4,
 "nbformat_minor": 2
}
